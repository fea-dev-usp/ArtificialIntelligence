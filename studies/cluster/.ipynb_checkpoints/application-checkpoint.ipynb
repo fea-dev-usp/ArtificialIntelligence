{
 "cells": [
  {
   "cell_type": "code",
   "execution_count": 1,
   "id": "d8b6d39b",
   "metadata": {},
   "outputs": [],
   "source": [
    "# librarys\n",
    "import pandas as pd\n",
    "from cluster_two import ClusterTwo"
   ]
  },
  {
   "cell_type": "code",
   "execution_count": 2,
   "id": "7da06e2d",
   "metadata": {},
   "outputs": [],
   "source": [
    "# preparing data\n",
    "\n",
    "x = [80, 93, 86, 98, 86, 9, 15, 3, 10, 20, 44, 56, 49, 62, 44]\n",
    "y = [87, 96, 95, 92, 92, 57, 49, 47, 59, 55, 25, 2, 10, 24, 10]\n",
    "\n",
    "df = pd.DataFrame({'x': x,\n",
    "                   'y': y})"
   ]
  },
  {
   "cell_type": "code",
   "execution_count": 3,
   "id": "457c401b",
   "metadata": {},
   "outputs": [],
   "source": [
    "# instanciando o objeto\n",
    "cluster_object = ClusterTwo(df)"
   ]
  },
  {
   "cell_type": "code",
   "execution_count": 4,
   "id": "beb6c67a",
   "metadata": {
    "scrolled": true
   },
   "outputs": [
    {
     "data": {
      "text/html": [
       "<div>\n",
       "<style scoped>\n",
       "    .dataframe tbody tr th:only-of-type {\n",
       "        vertical-align: middle;\n",
       "    }\n",
       "\n",
       "    .dataframe tbody tr th {\n",
       "        vertical-align: top;\n",
       "    }\n",
       "\n",
       "    .dataframe thead th {\n",
       "        text-align: right;\n",
       "    }\n",
       "</style>\n",
       "<table border=\"1\" class=\"dataframe\">\n",
       "  <thead>\n",
       "    <tr style=\"text-align: right;\">\n",
       "      <th></th>\n",
       "      <th>x</th>\n",
       "      <th>y</th>\n",
       "    </tr>\n",
       "  </thead>\n",
       "  <tbody>\n",
       "    <tr>\n",
       "      <th>0</th>\n",
       "      <td>80</td>\n",
       "      <td>87</td>\n",
       "    </tr>\n",
       "    <tr>\n",
       "      <th>1</th>\n",
       "      <td>93</td>\n",
       "      <td>96</td>\n",
       "    </tr>\n",
       "    <tr>\n",
       "      <th>2</th>\n",
       "      <td>86</td>\n",
       "      <td>95</td>\n",
       "    </tr>\n",
       "    <tr>\n",
       "      <th>3</th>\n",
       "      <td>98</td>\n",
       "      <td>92</td>\n",
       "    </tr>\n",
       "    <tr>\n",
       "      <th>4</th>\n",
       "      <td>86</td>\n",
       "      <td>92</td>\n",
       "    </tr>\n",
       "  </tbody>\n",
       "</table>\n",
       "</div>"
      ],
      "text/plain": [
       "    x   y\n",
       "0  80  87\n",
       "1  93  96\n",
       "2  86  95\n",
       "3  98  92\n",
       "4  86  92"
      ]
     },
     "execution_count": 4,
     "metadata": {},
     "output_type": "execute_result"
    }
   ],
   "source": [
    "# atributo dataframe\n",
    "cluster_object.df.head()"
   ]
  },
  {
   "cell_type": "code",
   "execution_count": 5,
   "id": "d480bbbd",
   "metadata": {},
   "outputs": [
    {
     "data": {
      "text/html": [
       "<div>\n",
       "<style scoped>\n",
       "    .dataframe tbody tr th:only-of-type {\n",
       "        vertical-align: middle;\n",
       "    }\n",
       "\n",
       "    .dataframe tbody tr th {\n",
       "        vertical-align: top;\n",
       "    }\n",
       "\n",
       "    .dataframe thead th {\n",
       "        text-align: right;\n",
       "    }\n",
       "</style>\n",
       "<table border=\"1\" class=\"dataframe\">\n",
       "  <thead>\n",
       "    <tr style=\"text-align: right;\">\n",
       "      <th></th>\n",
       "      <th>x</th>\n",
       "      <th>y</th>\n",
       "      <th>scaled_x</th>\n",
       "      <th>scaled_y</th>\n",
       "    </tr>\n",
       "  </thead>\n",
       "  <tbody>\n",
       "    <tr>\n",
       "      <th>0</th>\n",
       "      <td>80</td>\n",
       "      <td>87</td>\n",
       "      <td>2.487775</td>\n",
       "      <td>2.677127</td>\n",
       "    </tr>\n",
       "    <tr>\n",
       "      <th>1</th>\n",
       "      <td>93</td>\n",
       "      <td>96</td>\n",
       "      <td>2.892038</td>\n",
       "      <td>2.954071</td>\n",
       "    </tr>\n",
       "    <tr>\n",
       "      <th>2</th>\n",
       "      <td>86</td>\n",
       "      <td>95</td>\n",
       "      <td>2.674358</td>\n",
       "      <td>2.923300</td>\n",
       "    </tr>\n",
       "    <tr>\n",
       "      <th>3</th>\n",
       "      <td>98</td>\n",
       "      <td>92</td>\n",
       "      <td>3.047524</td>\n",
       "      <td>2.830985</td>\n",
       "    </tr>\n",
       "    <tr>\n",
       "      <th>4</th>\n",
       "      <td>86</td>\n",
       "      <td>92</td>\n",
       "      <td>2.674358</td>\n",
       "      <td>2.830985</td>\n",
       "    </tr>\n",
       "  </tbody>\n",
       "</table>\n",
       "</div>"
      ],
      "text/plain": [
       "    x   y  scaled_x  scaled_y\n",
       "0  80  87  2.487775  2.677127\n",
       "1  93  96  2.892038  2.954071\n",
       "2  86  95  2.674358  2.923300\n",
       "3  98  92  3.047524  2.830985\n",
       "4  86  92  2.674358  2.830985"
      ]
     },
     "execution_count": 5,
     "metadata": {},
     "output_type": "execute_result"
    }
   ],
   "source": [
    "# criando duas colunas com x e y normalizados\n",
    "cluster_object.normalization('x', 'y').head()"
   ]
  },
  {
   "cell_type": "code",
   "execution_count": 6,
   "id": "43a4315f",
   "metadata": {},
   "outputs": [
    {
     "name": "stdout",
     "output_type": "stream",
     "text": [
      "\n",
      "        Retorna o objeto da classe (um dataframe) com a coluna dos labels\n",
      "        adicionada, de acordo com o algorítimo de clusterização K-Means.\n",
      "\n",
      "            Parameters:\n",
      "                    x (str): Nome da coluna \n",
      "                    y (str): Nome da outra coluna\n",
      "                    n_clusters (int): Número de clusters a ser utilizado\n",
      "                    check_finite (bool): Indica se uma verificação funciona se tiver um NaN no conjunto dos dados (default = True)\n",
      "\n",
      "            Returns:\n",
      "                    DataFrame (pd.dataframe): Pandas Dataframe uma coluna a mais dos clusters labels.\n",
      "        \n"
     ]
    }
   ],
   "source": [
    "print(cluster_object.kmeans_clustering.__doc__)"
   ]
  },
  {
   "cell_type": "code",
   "execution_count": 7,
   "id": "6d3f7110",
   "metadata": {},
   "outputs": [
    {
     "data": {
      "text/html": [
       "<div>\n",
       "<style scoped>\n",
       "    .dataframe tbody tr th:only-of-type {\n",
       "        vertical-align: middle;\n",
       "    }\n",
       "\n",
       "    .dataframe tbody tr th {\n",
       "        vertical-align: top;\n",
       "    }\n",
       "\n",
       "    .dataframe thead th {\n",
       "        text-align: right;\n",
       "    }\n",
       "</style>\n",
       "<table border=\"1\" class=\"dataframe\">\n",
       "  <thead>\n",
       "    <tr style=\"text-align: right;\">\n",
       "      <th></th>\n",
       "      <th>x</th>\n",
       "      <th>y</th>\n",
       "      <th>scaled_x</th>\n",
       "      <th>scaled_y</th>\n",
       "      <th>cluster_hierarchical_labels</th>\n",
       "    </tr>\n",
       "  </thead>\n",
       "  <tbody>\n",
       "    <tr>\n",
       "      <th>0</th>\n",
       "      <td>80</td>\n",
       "      <td>87</td>\n",
       "      <td>2.487775</td>\n",
       "      <td>2.677127</td>\n",
       "      <td>1</td>\n",
       "    </tr>\n",
       "    <tr>\n",
       "      <th>1</th>\n",
       "      <td>93</td>\n",
       "      <td>96</td>\n",
       "      <td>2.892038</td>\n",
       "      <td>2.954071</td>\n",
       "      <td>1</td>\n",
       "    </tr>\n",
       "    <tr>\n",
       "      <th>2</th>\n",
       "      <td>86</td>\n",
       "      <td>95</td>\n",
       "      <td>2.674358</td>\n",
       "      <td>2.923300</td>\n",
       "      <td>1</td>\n",
       "    </tr>\n",
       "    <tr>\n",
       "      <th>3</th>\n",
       "      <td>98</td>\n",
       "      <td>92</td>\n",
       "      <td>3.047524</td>\n",
       "      <td>2.830985</td>\n",
       "      <td>1</td>\n",
       "    </tr>\n",
       "    <tr>\n",
       "      <th>4</th>\n",
       "      <td>86</td>\n",
       "      <td>92</td>\n",
       "      <td>2.674358</td>\n",
       "      <td>2.830985</td>\n",
       "      <td>1</td>\n",
       "    </tr>\n",
       "    <tr>\n",
       "      <th>5</th>\n",
       "      <td>9</td>\n",
       "      <td>57</td>\n",
       "      <td>0.279875</td>\n",
       "      <td>1.753980</td>\n",
       "      <td>2</td>\n",
       "    </tr>\n",
       "    <tr>\n",
       "      <th>6</th>\n",
       "      <td>15</td>\n",
       "      <td>49</td>\n",
       "      <td>0.466458</td>\n",
       "      <td>1.507807</td>\n",
       "      <td>2</td>\n",
       "    </tr>\n",
       "    <tr>\n",
       "      <th>7</th>\n",
       "      <td>3</td>\n",
       "      <td>47</td>\n",
       "      <td>0.093292</td>\n",
       "      <td>1.446264</td>\n",
       "      <td>2</td>\n",
       "    </tr>\n",
       "    <tr>\n",
       "      <th>8</th>\n",
       "      <td>10</td>\n",
       "      <td>59</td>\n",
       "      <td>0.310972</td>\n",
       "      <td>1.815523</td>\n",
       "      <td>2</td>\n",
       "    </tr>\n",
       "    <tr>\n",
       "      <th>9</th>\n",
       "      <td>20</td>\n",
       "      <td>55</td>\n",
       "      <td>0.621944</td>\n",
       "      <td>1.692437</td>\n",
       "      <td>2</td>\n",
       "    </tr>\n",
       "    <tr>\n",
       "      <th>10</th>\n",
       "      <td>44</td>\n",
       "      <td>25</td>\n",
       "      <td>1.368276</td>\n",
       "      <td>0.769289</td>\n",
       "      <td>3</td>\n",
       "    </tr>\n",
       "    <tr>\n",
       "      <th>11</th>\n",
       "      <td>56</td>\n",
       "      <td>2</td>\n",
       "      <td>1.741442</td>\n",
       "      <td>0.061543</td>\n",
       "      <td>3</td>\n",
       "    </tr>\n",
       "    <tr>\n",
       "      <th>12</th>\n",
       "      <td>49</td>\n",
       "      <td>10</td>\n",
       "      <td>1.523762</td>\n",
       "      <td>0.307716</td>\n",
       "      <td>3</td>\n",
       "    </tr>\n",
       "    <tr>\n",
       "      <th>13</th>\n",
       "      <td>62</td>\n",
       "      <td>24</td>\n",
       "      <td>1.928025</td>\n",
       "      <td>0.738518</td>\n",
       "      <td>3</td>\n",
       "    </tr>\n",
       "    <tr>\n",
       "      <th>14</th>\n",
       "      <td>44</td>\n",
       "      <td>10</td>\n",
       "      <td>1.368276</td>\n",
       "      <td>0.307716</td>\n",
       "      <td>3</td>\n",
       "    </tr>\n",
       "  </tbody>\n",
       "</table>\n",
       "</div>"
      ],
      "text/plain": [
       "     x   y  scaled_x  scaled_y  cluster_hierarchical_labels\n",
       "0   80  87  2.487775  2.677127                            1\n",
       "1   93  96  2.892038  2.954071                            1\n",
       "2   86  95  2.674358  2.923300                            1\n",
       "3   98  92  3.047524  2.830985                            1\n",
       "4   86  92  2.674358  2.830985                            1\n",
       "5    9  57  0.279875  1.753980                            2\n",
       "6   15  49  0.466458  1.507807                            2\n",
       "7    3  47  0.093292  1.446264                            2\n",
       "8   10  59  0.310972  1.815523                            2\n",
       "9   20  55  0.621944  1.692437                            2\n",
       "10  44  25  1.368276  0.769289                            3\n",
       "11  56   2  1.741442  0.061543                            3\n",
       "12  49  10  1.523762  0.307716                            3\n",
       "13  62  24  1.928025  0.738518                            3\n",
       "14  44  10  1.368276  0.307716                            3"
      ]
     },
     "execution_count": 7,
     "metadata": {},
     "output_type": "execute_result"
    }
   ],
   "source": [
    "cluster_object.hierarchical_clustering(x ='scaled_x', y ='scaled_y', method = 'single')"
   ]
  },
  {
   "cell_type": "code",
   "execution_count": 8,
   "id": "490e8405",
   "metadata": {},
   "outputs": [
    {
     "data": {
      "image/png": "[encoded data removed]",
      "text/plain": [
       "<Figure size 432x288 with 1 Axes>"
      ]
     },
     "metadata": {},
     "output_type": "display_data"
    }
   ],
   "source": [
    "cluster_object.plot_dendrogram()"
   ]
  },
  {
   "cell_type": "code",
   "execution_count": 9,
   "id": "c8043633",
   "metadata": {},
   "outputs": [
    {
     "name": "stdout",
     "output_type": "stream",
     "text": [
      "\n",
      "        Apenas plota uma gráfico de linha com abscissa sendo o range de clusters definidos e com a ordenada as distorções totais. \n",
      "\n",
      "\n",
      "            Parameters:\n",
      "                    x (str): Nome da coluna \n",
      "                    y (str): Nome da outra coluna\n",
      "                    cluster_range (range): Um objeto range \n",
      "\n",
      "        \n"
     ]
    }
   ],
   "source": [
    "print(cluster_object.elbow_plot.__doc__)"
   ]
  },
  {
   "cell_type": "code",
   "execution_count": 10,
   "id": "450c9d61",
   "metadata": {},
   "outputs": [
    {
     "data": {
      "image/png": "[encoded data removed]",
      "text/plain": [
       "<Figure size 432x288 with 1 Axes>"
      ]
     },
     "metadata": {},
     "output_type": "display_data"
    }
   ],
   "source": [
    "cluster_object.elbow_plot('scaled_x', 'scaled_y', range(2,7))"
   ]
  },
  {
   "cell_type": "code",
   "execution_count": 11,
   "id": "2122b7c0",
   "metadata": {},
   "outputs": [
    {
     "data": {
      "text/html": [
       "<div>\n",
       "<style scoped>\n",
       "    .dataframe tbody tr th:only-of-type {\n",
       "        vertical-align: middle;\n",
       "    }\n",
       "\n",
       "    .dataframe tbody tr th {\n",
       "        vertical-align: top;\n",
       "    }\n",
       "\n",
       "    .dataframe thead th {\n",
       "        text-align: right;\n",
       "    }\n",
       "</style>\n",
       "<table border=\"1\" class=\"dataframe\">\n",
       "  <thead>\n",
       "    <tr style=\"text-align: right;\">\n",
       "      <th></th>\n",
       "      <th>x</th>\n",
       "      <th>y</th>\n",
       "      <th>scaled_x</th>\n",
       "      <th>scaled_y</th>\n",
       "      <th>cluster_hierarchical_labels</th>\n",
       "      <th>cluster_kmeans_labels</th>\n",
       "    </tr>\n",
       "  </thead>\n",
       "  <tbody>\n",
       "    <tr>\n",
       "      <th>0</th>\n",
       "      <td>80</td>\n",
       "      <td>87</td>\n",
       "      <td>2.487775</td>\n",
       "      <td>2.677127</td>\n",
       "      <td>1</td>\n",
       "      <td>1</td>\n",
       "    </tr>\n",
       "    <tr>\n",
       "      <th>1</th>\n",
       "      <td>93</td>\n",
       "      <td>96</td>\n",
       "      <td>2.892038</td>\n",
       "      <td>2.954071</td>\n",
       "      <td>1</td>\n",
       "      <td>1</td>\n",
       "    </tr>\n",
       "    <tr>\n",
       "      <th>2</th>\n",
       "      <td>86</td>\n",
       "      <td>95</td>\n",
       "      <td>2.674358</td>\n",
       "      <td>2.923300</td>\n",
       "      <td>1</td>\n",
       "      <td>1</td>\n",
       "    </tr>\n",
       "    <tr>\n",
       "      <th>3</th>\n",
       "      <td>98</td>\n",
       "      <td>92</td>\n",
       "      <td>3.047524</td>\n",
       "      <td>2.830985</td>\n",
       "      <td>1</td>\n",
       "      <td>1</td>\n",
       "    </tr>\n",
       "    <tr>\n",
       "      <th>4</th>\n",
       "      <td>86</td>\n",
       "      <td>92</td>\n",
       "      <td>2.674358</td>\n",
       "      <td>2.830985</td>\n",
       "      <td>1</td>\n",
       "      <td>1</td>\n",
       "    </tr>\n",
       "  </tbody>\n",
       "</table>\n",
       "</div>"
      ],
      "text/plain": [
       "    x   y  scaled_x  scaled_y  cluster_hierarchical_labels  \\\n",
       "0  80  87  2.487775  2.677127                            1   \n",
       "1  93  96  2.892038  2.954071                            1   \n",
       "2  86  95  2.674358  2.923300                            1   \n",
       "3  98  92  3.047524  2.830985                            1   \n",
       "4  86  92  2.674358  2.830985                            1   \n",
       "\n",
       "   cluster_kmeans_labels  \n",
       "0                      1  \n",
       "1                      1  \n",
       "2                      1  \n",
       "3                      1  \n",
       "4                      1  "
      ]
     },
     "execution_count": 11,
     "metadata": {},
     "output_type": "execute_result"
    }
   ],
   "source": [
    "# criando as labels clusterizadas\n",
    "cluster_object.kmeans_clustering(x ='scaled_x', y ='scaled_y', n_clusters = 3).head()"
   ]
  },
  {
   "cell_type": "code",
   "execution_count": 12,
   "id": "cf1f131c",
   "metadata": {},
   "outputs": [
    {
     "data": {
      "image/png": "[encoded data removed]",
      "text/plain": [
       "<Figure size 432x288 with 1 Axes>"
      ]
     },
     "metadata": {},
     "output_type": "display_data"
    }
   ],
   "source": [
    "# plotando os dados clusterizados\n",
    "cluster_object.plot_cluster('scaled_x', 'scaled_y', 'cluster_kmeans_labels')"
   ]
  },
  {
   "cell_type": "code",
   "execution_count": 13,
   "id": "1ea22ed6",
   "metadata": {},
   "outputs": [
    {
     "data": {
      "image/png": "[encoded data removed]",
      "text/plain": [
       "<Figure size 432x288 with 1 Axes>"
      ]
     },
     "metadata": {},
     "output_type": "display_data"
    }
   ],
   "source": [
    "cluster_object.plot_cluster('scaled_x', 'scaled_y', 'cluster_hierarchical_labels')"
   ]
  }
 ],
 "metadata": {
  "kernelspec": {
   "display_name": "Python 3",
   "language": "python",
   "name": "python3"
  },
  "language_info": {
   "codemirror_mode": {
    "name": "ipython",
    "version": 3
   },
   "file_extension": ".py",
   "mimetype": "text/x-python",
   "name": "python",
   "nbconvert_exporter": "python",
   "pygments_lexer": "ipython3",
   "version": "3.8.5"
  }
 },
 "nbformat": 4,
 "nbformat_minor": 5
}
