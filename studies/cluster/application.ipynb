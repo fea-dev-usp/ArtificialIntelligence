{
 "cells": [
  {
   "cell_type": "code",
   "execution_count": 8,
   "id": "d8b6d39b",
   "metadata": {},
   "outputs": [],
   "source": [
    "# librarys\n",
    "import pandas as pd\n",
    "from cluster_two import ClusterTwo"
   ]
  },
  {
   "cell_type": "code",
   "execution_count": 2,
   "id": "7da06e2d",
   "metadata": {},
   "outputs": [],
   "source": [
    "# preparing data\n",
    "\n",
    "x = [80, 93, 86, 98, 86, 9, 15, 3, 10, 20, 44, 56, 49, 62, 44]\n",
    "y = [87, 96, 95, 92, 92, 57, 49, 47, 59, 55, 25, 2, 10, 24, 10]\n",
    "\n",
    "df = pd.DataFrame({'x': x,\n",
    "                   'y': y})"
   ]
  },
  {
   "cell_type": "code",
   "execution_count": 3,
   "id": "457c401b",
   "metadata": {},
   "outputs": [],
   "source": [
    "# instanciando o objeto\n",
    "cluster_object = ClusterTwo(df)"
   ]
  },
  {
   "cell_type": "code",
   "execution_count": 4,
   "id": "beb6c67a",
   "metadata": {
    "scrolled": true
   },
   "outputs": [
    {
     "data": {
      "text/html": [
       "<div>\n",
       "<style scoped>\n",
       "    .dataframe tbody tr th:only-of-type {\n",
       "        vertical-align: middle;\n",
       "    }\n",
       "\n",
       "    .dataframe tbody tr th {\n",
       "        vertical-align: top;\n",
       "    }\n",
       "\n",
       "    .dataframe thead th {\n",
       "        text-align: right;\n",
       "    }\n",
       "</style>\n",
       "<table border=\"1\" class=\"dataframe\">\n",
       "  <thead>\n",
       "    <tr style=\"text-align: right;\">\n",
       "      <th></th>\n",
       "      <th>x</th>\n",
       "      <th>y</th>\n",
       "    </tr>\n",
       "  </thead>\n",
       "  <tbody>\n",
       "    <tr>\n",
       "      <th>0</th>\n",
       "      <td>80</td>\n",
       "      <td>87</td>\n",
       "    </tr>\n",
       "    <tr>\n",
       "      <th>1</th>\n",
       "      <td>93</td>\n",
       "      <td>96</td>\n",
       "    </tr>\n",
       "    <tr>\n",
       "      <th>2</th>\n",
       "      <td>86</td>\n",
       "      <td>95</td>\n",
       "    </tr>\n",
       "    <tr>\n",
       "      <th>3</th>\n",
       "      <td>98</td>\n",
       "      <td>92</td>\n",
       "    </tr>\n",
       "    <tr>\n",
       "      <th>4</th>\n",
       "      <td>86</td>\n",
       "      <td>92</td>\n",
       "    </tr>\n",
       "  </tbody>\n",
       "</table>\n",
       "</div>"
      ],
      "text/plain": [
       "    x   y\n",
       "0  80  87\n",
       "1  93  96\n",
       "2  86  95\n",
       "3  98  92\n",
       "4  86  92"
      ]
     },
     "execution_count": 4,
     "metadata": {},
     "output_type": "execute_result"
    }
   ],
   "source": [
    "# atributo dataframe\n",
    "cluster_object.df.head()"
   ]
  },
  {
   "cell_type": "code",
   "execution_count": 5,
   "id": "d480bbbd",
   "metadata": {},
   "outputs": [
    {
     "data": {
      "text/html": [
       "<div>\n",
       "<style scoped>\n",
       "    .dataframe tbody tr th:only-of-type {\n",
       "        vertical-align: middle;\n",
       "    }\n",
       "\n",
       "    .dataframe tbody tr th {\n",
       "        vertical-align: top;\n",
       "    }\n",
       "\n",
       "    .dataframe thead th {\n",
       "        text-align: right;\n",
       "    }\n",
       "</style>\n",
       "<table border=\"1\" class=\"dataframe\">\n",
       "  <thead>\n",
       "    <tr style=\"text-align: right;\">\n",
       "      <th></th>\n",
       "      <th>x</th>\n",
       "      <th>y</th>\n",
       "      <th>scaled_x</th>\n",
       "      <th>scaled_y</th>\n",
       "    </tr>\n",
       "  </thead>\n",
       "  <tbody>\n",
       "    <tr>\n",
       "      <th>0</th>\n",
       "      <td>80</td>\n",
       "      <td>87</td>\n",
       "      <td>2.487775</td>\n",
       "      <td>2.677127</td>\n",
       "    </tr>\n",
       "    <tr>\n",
       "      <th>1</th>\n",
       "      <td>93</td>\n",
       "      <td>96</td>\n",
       "      <td>2.892038</td>\n",
       "      <td>2.954071</td>\n",
       "    </tr>\n",
       "    <tr>\n",
       "      <th>2</th>\n",
       "      <td>86</td>\n",
       "      <td>95</td>\n",
       "      <td>2.674358</td>\n",
       "      <td>2.923300</td>\n",
       "    </tr>\n",
       "    <tr>\n",
       "      <th>3</th>\n",
       "      <td>98</td>\n",
       "      <td>92</td>\n",
       "      <td>3.047524</td>\n",
       "      <td>2.830985</td>\n",
       "    </tr>\n",
       "    <tr>\n",
       "      <th>4</th>\n",
       "      <td>86</td>\n",
       "      <td>92</td>\n",
       "      <td>2.674358</td>\n",
       "      <td>2.830985</td>\n",
       "    </tr>\n",
       "  </tbody>\n",
       "</table>\n",
       "</div>"
      ],
      "text/plain": [
       "    x   y  scaled_x  scaled_y\n",
       "0  80  87  2.487775  2.677127\n",
       "1  93  96  2.892038  2.954071\n",
       "2  86  95  2.674358  2.923300\n",
       "3  98  92  3.047524  2.830985\n",
       "4  86  92  2.674358  2.830985"
      ]
     },
     "execution_count": 5,
     "metadata": {},
     "output_type": "execute_result"
    }
   ],
   "source": [
    "# criando duas colunas com x e y normalizados\n",
    "cluster_object.normalization('x', 'y').head()"
   ]
  },
  {
   "cell_type": "code",
   "execution_count": 6,
   "id": "2122b7c0",
   "metadata": {},
   "outputs": [
    {
     "data": {
      "text/html": [
       "<div>\n",
       "<style scoped>\n",
       "    .dataframe tbody tr th:only-of-type {\n",
       "        vertical-align: middle;\n",
       "    }\n",
       "\n",
       "    .dataframe tbody tr th {\n",
       "        vertical-align: top;\n",
       "    }\n",
       "\n",
       "    .dataframe thead th {\n",
       "        text-align: right;\n",
       "    }\n",
       "</style>\n",
       "<table border=\"1\" class=\"dataframe\">\n",
       "  <thead>\n",
       "    <tr style=\"text-align: right;\">\n",
       "      <th></th>\n",
       "      <th>x</th>\n",
       "      <th>y</th>\n",
       "      <th>scaled_x</th>\n",
       "      <th>scaled_y</th>\n",
       "      <th>cluster_labels_hierarchical</th>\n",
       "    </tr>\n",
       "  </thead>\n",
       "  <tbody>\n",
       "    <tr>\n",
       "      <th>0</th>\n",
       "      <td>80</td>\n",
       "      <td>87</td>\n",
       "      <td>2.487775</td>\n",
       "      <td>2.677127</td>\n",
       "      <td>1</td>\n",
       "    </tr>\n",
       "    <tr>\n",
       "      <th>1</th>\n",
       "      <td>93</td>\n",
       "      <td>96</td>\n",
       "      <td>2.892038</td>\n",
       "      <td>2.954071</td>\n",
       "      <td>1</td>\n",
       "    </tr>\n",
       "    <tr>\n",
       "      <th>2</th>\n",
       "      <td>86</td>\n",
       "      <td>95</td>\n",
       "      <td>2.674358</td>\n",
       "      <td>2.923300</td>\n",
       "      <td>1</td>\n",
       "    </tr>\n",
       "    <tr>\n",
       "      <th>3</th>\n",
       "      <td>98</td>\n",
       "      <td>92</td>\n",
       "      <td>3.047524</td>\n",
       "      <td>2.830985</td>\n",
       "      <td>1</td>\n",
       "    </tr>\n",
       "    <tr>\n",
       "      <th>4</th>\n",
       "      <td>86</td>\n",
       "      <td>92</td>\n",
       "      <td>2.674358</td>\n",
       "      <td>2.830985</td>\n",
       "      <td>1</td>\n",
       "    </tr>\n",
       "  </tbody>\n",
       "</table>\n",
       "</div>"
      ],
      "text/plain": [
       "    x   y  scaled_x  scaled_y  cluster_labels_hierarchical\n",
       "0  80  87  2.487775  2.677127                            1\n",
       "1  93  96  2.892038  2.954071                            1\n",
       "2  86  95  2.674358  2.923300                            1\n",
       "3  98  92  3.047524  2.830985                            1\n",
       "4  86  92  2.674358  2.830985                            1"
      ]
     },
     "execution_count": 6,
     "metadata": {},
     "output_type": "execute_result"
    }
   ],
   "source": [
    "# criando as labels clusterizadas\n",
    "cluster_object.hierarchical_clustering(method = 'ward',\n",
    "                                       metric = 'euclidean',\n",
    "                                       n_cluster = 3,\n",
    "                                       criterion = 'maxclust').head()"
   ]
  },
  {
   "cell_type": "code",
   "execution_count": 7,
   "id": "cf1f131c",
   "metadata": {},
   "outputs": [
    {
     "data": {
      "image/png": "[encoded data removed]",
      "text/plain": [
       "<Figure size 432x288 with 1 Axes>"
      ]
     },
     "metadata": {},
     "output_type": "display_data"
    }
   ],
   "source": [
    "# plotando os dados clusterizados\n",
    "cluster_object.plot_cluster('x', 'y', 'cluster_labels_hierarchical')"
   ]
  }
 ],
 "metadata": {
  "kernelspec": {
   "display_name": "Python 3",
   "language": "python",
   "name": "python3"
  },
  "language_info": {
   "codemirror_mode": {
    "name": "ipython",
    "version": 3
   },
   "file_extension": ".py",
   "mimetype": "text/x-python",
   "name": "python",
   "nbconvert_exporter": "python",
   "pygments_lexer": "ipython3",
   "version": "3.8.5"
  }
 },
 "nbformat": 4,
 "nbformat_minor": 5
}
